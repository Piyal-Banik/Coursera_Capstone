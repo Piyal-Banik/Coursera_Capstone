{
 "cells": [
  {
   "cell_type": "markdown",
   "metadata": {},
   "source": [
    "# Best Suburb in Melbourne, Australia to Open a Cafe"
   ]
  },
  {
   "cell_type": "markdown",
   "metadata": {},
   "source": [
    "## Introduction"
   ]
  },
  {
   "cell_type": "markdown",
   "metadata": {},
   "source": [
    "Whenever someone wants to open up a Cafe, the first dilema that they face is whether the choice of location is good the running the business longer. They want to choose a location where there will be less competition i.e. have fewer Cafes present in the suburb, in order to minimise the risk of facing a loss after opening the restaurant."
   ]
  },
  {
   "cell_type": "markdown",
   "metadata": {},
   "source": [
    "## Business Problem"
   ]
  },
  {
   "cell_type": "markdown",
   "metadata": {},
   "source": [
    "In this project we aim to solve the above mentioned problem. The main goal of this capstone project is to collect and analyse data in order to select a location in Melbourne, Australia to open a Cafe. We want to help a business owner planning to open up a Cafe in a location by exploring better facilities around the Suburb in Melbourne."
   ]
  },
  {
   "cell_type": "markdown",
   "metadata": {},
   "source": [
    "## Target Audience"
   ]
  },
  {
   "cell_type": "markdown",
   "metadata": {},
   "source": [
    "This project is used for people willing to open up a Cafe in the city of Melbourne, Australia."
   ]
  },
  {
   "cell_type": "markdown",
   "metadata": {},
   "source": [
    "## Data"
   ]
  },
  {
   "cell_type": "markdown",
   "metadata": {},
   "source": [
    "We would need few different types of data in order to solve the problem in hand:\n",
    "<ul>\n",
    "    <li>List of Suburbs in Melbourne, Australia which we will extract from:  <a>https://en.wikipedia.org/wiki/Category:Suburbs_of_Melbourne</a> using web scrapping methods i.e use Beautiful Soup package and Request of python</li>\n",
    "    <li>We will use Forsquare and Geocoder package of python to extract data about various venues present in different Suburbs of Melbourne along with Latitude, Longitude Data of those suburbs and venues</li>\n",
    "</ul>\n",
    " "
   ]
  },
  {
   "cell_type": "code",
   "execution_count": null,
   "metadata": {},
   "outputs": [],
   "source": []
  }
 ],
 "metadata": {
  "kernelspec": {
   "display_name": "Python 3",
   "language": "python",
   "name": "python3"
  },
  "language_info": {
   "codemirror_mode": {
    "name": "ipython",
    "version": 3
   },
   "file_extension": ".py",
   "mimetype": "text/x-python",
   "name": "python",
   "nbconvert_exporter": "python",
   "pygments_lexer": "ipython3",
   "version": "3.8.5"
  }
 },
 "nbformat": 4,
 "nbformat_minor": 4
}
